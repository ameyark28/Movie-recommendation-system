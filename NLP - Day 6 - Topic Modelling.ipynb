{
 "cells": [
  {
   "cell_type": "markdown",
   "id": "339289f3",
   "metadata": {},
   "source": [
    "# Topic Modelling "
   ]
  },
  {
   "cell_type": "markdown",
   "id": "a8aefcb5",
   "metadata": {},
   "source": [
    " - Unsupervised Learning - Raw data - (Grouping,Clustering)\n",
    " - Techniques:\n",
    "     - LSA\n",
    "     - PLSA\n",
    "     - LDA"
   ]
  },
  {
   "cell_type": "markdown",
   "id": "20463581",
   "metadata": {},
   "source": [
    "# Supervised Learning\n",
    "\n",
    "- \"This session is on Topic Modelling\",\"Learning\"\n",
    "- \"Heathly eating habits gives us healthy life style\",\"Lifestyle\""
   ]
  },
  {
   "cell_type": "code",
   "execution_count": 21,
   "id": "f39a417f",
   "metadata": {},
   "outputs": [],
   "source": [
    "data=['This session is on Topic Modelling',\"We are discussing about different topics with curious students\",\"Go extra mile to learn about new things\",\"Do your own research and apply different techniques for same problem\",\"Read research papers and try to implement the solution following the same\",\"I want to eat apples to healthy\",\"Avoid Junk foods to stay fit\",\"Eat,Snack only when you are hungry\",\"Heathly eating habits gives us healthy life style\"]"
   ]
  },
  {
   "cell_type": "code",
   "execution_count": 22,
   "id": "acd30fef",
   "metadata": {},
   "outputs": [],
   "source": [
    "from nltk.tokenize import word_tokenize\n",
    "from nltk.corpus import stopwords"
   ]
  },
  {
   "cell_type": "code",
   "execution_count": 23,
   "id": "b9d83598",
   "metadata": {},
   "outputs": [],
   "source": [
    "def preprocess(document):\n",
    "    'changes document to lower case and removes stopwords'\n",
    "\n",
    "    # change sentence to lower case\n",
    "    document = document.lower()\n",
    "\n",
    "    # tokenize into words\n",
    "    words = word_tokenize(document)\n",
    "\n",
    "    # remove stop words\n",
    "    words = [word for word in words if word not in stopwords.words(\"english\")]\n",
    "\n",
    "    # join words to make sentence\n",
    "    document = \" \".join(words)\n",
    "    \n",
    "    return document\n",
    "\n"
   ]
  },
  {
   "cell_type": "code",
   "execution_count": 24,
   "id": "b37f42f2",
   "metadata": {},
   "outputs": [],
   "source": [
    "documents=[preprocess(document).split() for document in data]"
   ]
  },
  {
   "cell_type": "code",
   "execution_count": 25,
   "id": "9cb5bbda",
   "metadata": {},
   "outputs": [
    {
     "data": {
      "text/plain": [
       "[['session', 'topic', 'modelling'],\n",
       " ['discussing', 'different', 'topics', 'curious', 'students'],\n",
       " ['go', 'extra', 'mile', 'learn', 'new', 'things'],\n",
       " ['research', 'apply', 'different', 'techniques', 'problem'],\n",
       " ['read', 'research', 'papers', 'try', 'implement', 'solution', 'following'],\n",
       " ['want', 'eat', 'apples', 'healthy'],\n",
       " ['avoid', 'junk', 'foods', 'stay', 'fit'],\n",
       " ['eat', ',', 'snack', 'hungry'],\n",
       " ['heathly', 'eating', 'habits', 'gives', 'us', 'healthy', 'life', 'style']]"
      ]
     },
     "execution_count": 25,
     "metadata": {},
     "output_type": "execute_result"
    }
   ],
   "source": [
    "documents"
   ]
  },
  {
   "cell_type": "code",
   "execution_count": 26,
   "id": "a085102a",
   "metadata": {},
   "outputs": [],
   "source": [
    "import gensim"
   ]
  },
  {
   "cell_type": "code",
   "execution_count": 27,
   "id": "1aa09c31",
   "metadata": {},
   "outputs": [],
   "source": [
    "from gensim import corpora"
   ]
  },
  {
   "cell_type": "code",
   "execution_count": 28,
   "id": "53df3275",
   "metadata": {},
   "outputs": [],
   "source": [
    "dictionary= corpora.Dictionary(documents)"
   ]
  },
  {
   "cell_type": "code",
   "execution_count": 29,
   "id": "4e37527f",
   "metadata": {},
   "outputs": [],
   "source": [
    "doc_term_matrix=[dictionary.doc2bow(doc) for doc in documents]"
   ]
  },
  {
   "cell_type": "code",
   "execution_count": 11,
   "id": "a29b0961",
   "metadata": {},
   "outputs": [],
   "source": [
    "LDA=gensim.models.ldamodel.LdaModel"
   ]
  },
  {
   "cell_type": "code",
   "execution_count": 39,
   "id": "e8d24a07",
   "metadata": {},
   "outputs": [],
   "source": [
    "Lda_Model=LDA(doc_term_matrix,num_topics=5,id2word=dictionary,passes=50)"
   ]
  },
  {
   "cell_type": "code",
   "execution_count": 44,
   "id": "feffc16c",
   "metadata": {},
   "outputs": [
    {
     "data": {
      "text/plain": [
       "[(0,\n",
       "  '0.082*\"new\" + 0.082*\"go\" + 0.082*\"mile\" + 0.082*\"learn\" + 0.082*\"extra\"'),\n",
       " (1,\n",
       "  '0.068*\"different\" + 0.068*\"eat\" + 0.068*\"problem\" + 0.068*\"techniques\" + 0.068*\"apply\"'),\n",
       " (2,\n",
       "  '0.056*\"healthy\" + 0.056*\"life\" + 0.056*\"habits\" + 0.056*\"gives\" + 0.056*\"us\"'),\n",
       " (3,\n",
       "  '0.065*\"research\" + 0.065*\"papers\" + 0.065*\"implement\" + 0.065*\"solution\" + 0.065*\"read\"'),\n",
       " (4,\n",
       "  '0.068*\"different\" + 0.068*\"eat\" + 0.068*\"discussing\" + 0.068*\"topics\" + 0.068*\"students\"')]"
      ]
     },
     "execution_count": 44,
     "metadata": {},
     "output_type": "execute_result"
    }
   ],
   "source": [
    "Lda_Model.print_topics(num_words=5)"
   ]
  },
  {
   "cell_type": "markdown",
   "id": "9b745480",
   "metadata": {},
   "source": [
    "# Exercise"
   ]
  },
  {
   "cell_type": "markdown",
   "id": "5526fd0a",
   "metadata": {},
   "source": [
    "on Review column, apply topic Modelling. Check what are the topics inthe review"
   ]
  },
  {
   "cell_type": "markdown",
   "id": "1a726a7b",
   "metadata": {},
   "source": [
    "# For Project"
   ]
  },
  {
   "cell_type": "markdown",
   "id": "8ad533dd",
   "metadata": {},
   "source": [
    "create all the data as separate list - Do changes\n",
    "Clean Data\n",
    "df=pd.DataFrame(reviews,columns=['Date','Review','Rating'])\n",
    "\n"
   ]
  },
  {
   "cell_type": "code",
   "execution_count": null,
   "id": "86f1521c",
   "metadata": {},
   "outputs": [],
   "source": [
    "date=[]\n",
    "review=[]\n",
    "rating=[]\n",
    "for item in data:\n",
    "    date.append(item.find('span',attrs={'data-hook':\"review-date\"}).text)\n",
    "    review.append(item.find('span',attrs={'data-hook':\"review-body\"}).text)\n",
    "    rating.append(item.find('i',attrs={'data-hook':\"review-star-rating\"}).text)\n",
    "    "
   ]
  },
  {
   "cell_type": "code",
   "execution_count": null,
   "id": "14137183",
   "metadata": {},
   "outputs": [],
   "source": [
    "#Do the data cleaning on the list using for loop\n",
    "#EX:\n",
    "\n",
    "for i in date:\n",
    "    do string manipulation and save it in another list\n",
    "\n",
    "    "
   ]
  },
  {
   "cell_type": "code",
   "execution_count": null,
   "id": "982f6042",
   "metadata": {},
   "outputs": [],
   "source": [
    "#Pass the final cleaned list to below command:\n",
    "   \n",
    "pd.DataFrame({'Date': date,'Review': review,'Rating': rating})"
   ]
  },
  {
   "cell_type": "markdown",
   "id": "29a97c0b",
   "metadata": {},
   "source": [
    "# Web Scraping - Solution"
   ]
  },
  {
   "cell_type": "code",
   "execution_count": 46,
   "id": "79045f1d",
   "metadata": {},
   "outputs": [
    {
     "name": "stdout",
     "output_type": "stream",
     "text": [
      "TOKYO: Andy Murray sacrificed a chance to win a third successive Olympic singles title and decided to concentrate on the men's doubles competition at the Tokyo Games after scans confirmed he had \"issues\" with his body. The Briton is the only player to win back-to-back Olympic singles titles but after an injury-plagued run up to Tokyo, and with his body still not at 100% following the hip-resurfacing surgery he underwent in 2019, he decided to prioritise the men's doubles competition to boost his medal chances. Murray, who is partnering Joe Salisbury, said he felt physically fine but made the decision to pull out of the singles following a medical examination. On Sunday he had said he was hampered by a thigh strain. “It was very disappointing. I’d prepared well, was feeling good again and just had something show up on the scans that we weren’t too happy with,\" the 34-year-old Murray told reporters. “When we spoke about playing, I told Joe that if I had any physical issues I’d prioritise doubles over singles and that’s why I made the decision.\" “I’d have been annoyed with myself if I’d decided to play with the issue, made it worse, lost my singles and not been able to perform well in the doubles.\" “Physically it’ll be OK for the rest of the tournament, but I will need to take a break afterwards.” Murray and Salisbury advanced into the quarter-finals with a 6-2 7-6(2) win over Germany's Kevin Krawietz and Tim Puetz on Tuesday. \n"
     ]
    }
   ],
   "source": [
    "from bs4 import BeautifulSoup\n",
    "import requests\n",
    "r=requests.get(\"https://timesofindia.indiatimes.com/sports/tokyo-olympics/tokyo-olympics-andy-murray-chose-to-prioritise-doubles-over-singles-following-scan/articleshow/84790197.cms\")\n",
    "\n",
    "content=r.content\n",
    "soup=BeautifulSoup(content)\n",
    "\n",
    "for i in soup.find_all('div',attrs={'class':\"_3YYSt clearfix\"}):\n",
    "    print(i.text)"
   ]
  },
  {
   "cell_type": "code",
   "execution_count": null,
   "id": "cd539336",
   "metadata": {},
   "outputs": [],
   "source": []
  }
 ],
 "metadata": {
  "kernelspec": {
   "display_name": "Python 3",
   "language": "python",
   "name": "python3"
  },
  "language_info": {
   "codemirror_mode": {
    "name": "ipython",
    "version": 3
   },
   "file_extension": ".py",
   "mimetype": "text/x-python",
   "name": "python",
   "nbconvert_exporter": "python",
   "pygments_lexer": "ipython3",
   "version": "3.8.8"
  }
 },
 "nbformat": 4,
 "nbformat_minor": 5
}
